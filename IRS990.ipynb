{
 "cells": [
  {
   "cell_type": "markdown",
   "metadata": {},
   "source": [
    "## Approaches\n",
    "After getting the data, I did some research about the 990 Form. I decide to do a mini-project studying the relations between the contribution and investment of organizations. There are many different approaches.\n",
    "\n",
    "1. Study the contribution changing rate with investment changing rate over 1, 2, or 3 years\n",
    "2. Study the contribution and investment in a specific year\n",
    "3. Study the contribution and investment in a specific area (i.e. Madison WI)\n",
    "4. Study the contribution and investment over different kinds of orgs\n",
    "5. $\\dots \\dots$\n",
    "\n",
    "## Steps\n",
    "For this project, I would choose 2 over 2015 population. Following are the steps I am planning to take.\n",
    "\n",
    "1. Fairly create a sample of orgs\n",
    "    - With re-usable parameters(size, etc)\n",
    "2. Get the interested entries for the orgs created above\n",
    "    - With re-usable parameters(interested keys)\n",
    "    - Write the result into a file, so it is easier for analyzing\n",
    "3. Filter dirty data\n",
    "    - Remove unhelpful data from the sample file\n",
    "3. Analyze the data\n",
    "    - Basis measuring statistics\n",
    "    - Virtualization \n",
    "    - Explore relations of two keys"
   ]
  },
  {
   "cell_type": "markdown",
   "metadata": {},
   "source": [
    "## Sampling\n",
    "To be fair, I would use random sampling. Since the population size varies from year to year, I would use reservoir sampling algorithm."
   ]
  },
  {
   "cell_type": "code",
   "execution_count": 31,
   "metadata": {
    "collapsed": true
   },
   "outputs": [],
   "source": [
    "import csv\n",
    "import random\n",
    "import xml.etree.ElementTree as ET\n",
    "import requests\n",
    "\n",
    "def sampling(size, f_name):\n",
    "    \"\"\"\n",
    "    Random sampling `size` samples using the f_name csv file as population. \n",
    "    Reservoir sampling algorithm is used.\n",
    "\n",
    "    Args:\n",
    "        size(int) : sample size\n",
    "        f_name(string) : name of the population file\n",
    "\n",
    "    Returns:\n",
    "        int list : samples, each element is the unique identifier of the filing\n",
    "    \"\"\"\n",
    "    samples = []\n",
    "    counter = 0\n",
    "    with open(f_name, 'r') as fp:\n",
    "        first_line = fp.readline()\n",
    "        for line in fp:\n",
    "            counter += 1\n",
    "            # Fill in the samples \n",
    "            if len(samples) < size:\n",
    "                samples.append(line.strip('\\n')[-18:])\n",
    "            # Dynamic probability of replacing samples with the new sample\n",
    "            else:\n",
    "                indicator = int(random.random() * counter)\n",
    "                # With size/counter probability\n",
    "                if indicator < size:\n",
    "                    samples[indicator] = line.strip('\\n')[-18:]\n",
    "    return samples"
   ]
  },
  {
   "cell_type": "markdown",
   "metadata": {},
   "source": [
    "## Fetching data\n",
    "Once we have the organization samples, we can access the database to get the values we are interested. To make the function reusable, I would use a flexible approach, instead of hard code.\n",
    "\n",
    "The flow is \n",
    "1. Use the unique identifier to locate the 990 form\n",
    "2. Parse the xml file\n",
    "3. Fetch the values with interested tags\n",
    "4. Organize and create local csv file"
   ]
  },
  {
   "cell_type": "code",
   "execution_count": 32,
   "metadata": {
    "collapsed": true
   },
   "outputs": [],
   "source": [
    "\n",
    "def get_data(samples, output, *interests):\n",
    "    \"\"\"\n",
    "    Accessing each sample, organize and write the interested entires.\n",
    "\n",
    "    Args:\n",
    "        samples(str list) : list of unique identifiers of the samples\n",
    "        output(str) : file name of the output\n",
    "        *interests : multiple string of the tags of interested entries. If the\n",
    "            tags are not in the 990 form, values will be replaced with empty string\n",
    "\n",
    "    \"\"\"\n",
    "    \n",
    "    with open(output, 'w') as out_csv:\n",
    "        # The headers are the identifier and interested tags\n",
    "        writer = csv.DictWriter(out_csv, fieldnames = ['id'] + list(interests), \n",
    "                                delimiter = '\\t')\n",
    "        writer.writeheader()\n",
    "\n",
    "        url_p = 'https://s3.amazonaws.com/irs-form-990/'\n",
    "        url_e = '_public.xml'\n",
    "        \n",
    "        # Use counter to track the task rate\n",
    "        counter = 0\n",
    "        total = float(len(samples))\n",
    "\n",
    "        for sample in samples:\n",
    "            counter += 1\n",
    "            print(\"Finished \" + str(counter / total * 100) + \"%\")\n",
    "            # Parse the xml file\n",
    "            xml_response = requests.get(url_p + sample + url_e)\n",
    "            root = ET.fromstring(xml_response.content)\n",
    "\n",
    "            # Get the data for interested tags\n",
    "            data = {'id' : sample}\n",
    "\n",
    "            for tag in interests:\n",
    "                # For missing data, we use empty string as replacement\n",
    "                try:\n",
    "                    data[tag] = next(root.iter('{http://www.irs.gov/efile}' + \n",
    "                                               tag)).text\n",
    "                except StopIteration:\n",
    "                    data[tag] = ''\n",
    "\n",
    "            writer.writerow(data)"
   ]
  },
  {
   "cell_type": "markdown",
   "metadata": {},
   "source": [
    "Now we can write a script to do the real operations. \n",
    "\n",
    "I choose the sample size to be 30000, and interested keys are all keys related to contribution and investment. \n",
    "\n",
    "This script has run for hours, so I used `ssh` and `screen` to execute it on the computers in the CS lab."
   ]
  },
  {
   "cell_type": "code",
   "execution_count": 33,
   "metadata": {
    "collapsed": false
   },
   "outputs": [
    {
     "name": "stdout",
     "output_type": "stream",
     "text": [
      "Finished 100.0%\n"
     ]
    }
   ],
   "source": [
    "import sample\n",
    "\n",
    "curr_sample = sample.sampling(30000, 'index_2015.csv')\n",
    "sample.get_data(curr_sample, 'sample_2015.csv', \n",
    "                'PYContributionsGrantsAmt', \n",
    "                'CYContributionsGrantsAmt', \n",
    "                'TotalContributionsAmt', \n",
    "                'ContributionsGiftsGrantsEtcAmt',\n",
    "                'PYInvestmentIncomeAmt', \n",
    "                'CYInvestmentIncomeAmt')"
   ]
  },
  {
   "cell_type": "markdown",
   "metadata": {},
   "source": [
    "The result(first 15 lines) is shown below."
   ]
  },
  {
   "cell_type": "code",
   "execution_count": 41,
   "metadata": {
    "collapsed": false
   },
   "outputs": [
    {
     "name": "stdout",
     "output_type": "stream",
     "text": [
      "id\tPYContributionsGrantsAmt\tCYContributionsGrantsAmt\tTotalContributionsAmt\tContributionsGiftsGrantsEtcAmt\tPYInvestmentIncomeAmt\tCYInvestmentIncomeAmt\n",
      "\n",
      "201542249349300954\t344438\t68709\t68709\t\t385\t435\n",
      "\n",
      "201510659349200201\t\t\t\t4910\t\t\n",
      "\n",
      "201521699349200427\t\t\t\t310\t\t\n",
      "\n",
      "201530429349200853\t\t\t\t4903\t\t\n",
      "\n",
      "201531349349305353\t38335\t49927\t49927\t\t0\t0\n",
      "\n",
      "201542399349300724\t603535\t348126\t348126\t\t0\t9842\n",
      "\n",
      "201530629349100408\t\t\t\t\t\t\n",
      "\n",
      "201502529349100310\t\t\t\t\t\t\n",
      "\n",
      "201502239349301460\t137017\t210906\t210906\t\t0\t0\n",
      "\n",
      "201511359349101536\t\t\t\t\t\t\n",
      "\n",
      "201502309349200960\t\t\t\t\t\t\n",
      "\n",
      "201542029349300824\t\t989148\t989148\t\t\t131\n",
      "\n",
      "201502439349300735\t372522\t441452\t441452\t\t98\t-3174\n",
      "\n",
      "201531209349101023\t\t\t240000\t\t\t\n",
      "\n"
     ]
    }
   ],
   "source": [
    "with open('sample_2015.csv', 'r') as fp:\n",
    "    length = 0\n",
    "    for line in fp:\n",
    "        # Illustrate one part of the csv file\n",
    "        if length < 15:\n",
    "            print(line)\n",
    "        length += 1"
   ]
  },
  {
   "cell_type": "code",
   "execution_count": 42,
   "metadata": {
    "collapsed": false
   },
   "outputs": [
    {
     "name": "stdout",
     "output_type": "stream",
     "text": [
      "28259\n"
     ]
    }
   ],
   "source": [
    "print(length)"
   ]
  },
  {
   "cell_type": "markdown",
   "metadata": {},
   "source": [
    "## Format the data\n",
    "It ends the process of building a sample. Now I want to focus on the `PYContributionsGrantsAmt` and  `PYInvestmentIncomeAmt` two entries. I want to see whether there are some relations between of them.\n",
    "\n",
    "Although we have 28259 neat and clean entries with the key which we may be interested in, many of them do not have `PYContributionsGrantsAmt` and `PYInvestmentIncomeAmt`. To make reading csv easier, we need to erase the unvalid data from the sample file."
   ]
  },
  {
   "cell_type": "code",
   "execution_count": 8,
   "metadata": {
    "collapsed": true
   },
   "outputs": [],
   "source": [
    "with open('sample_2015.csv', 'r') as fp:\n",
    "    with open('interest.csv', 'w') as out_fp:\n",
    "        # Header line\n",
    "        out_fp.write(fp.readline())\n",
    "        for line in fp:\n",
    "            entries = line.split('\\t')\n",
    "            \n",
    "            # We only want the data with  valid PYContributionsGrantsAmt \n",
    "            # and PYInvestmentIncomeAmt\n",
    "            if entries[1] and entries[1] != \"RESTRICTED\" and \\\n",
    "            entries[5] and entries[5] != \"RESTRICTED\":\n",
    "                out_fp.write(line)"
   ]
  },
  {
   "cell_type": "code",
   "execution_count": 44,
   "metadata": {
    "collapsed": false
   },
   "outputs": [
    {
     "name": "stdout",
     "output_type": "stream",
     "text": [
      "id\tPYContributionsGrantsAmt\tCYContributionsGrantsAmt\tTotalContributionsAmt\tContributionsGiftsGrantsEtcAmt\tPYInvestmentIncomeAmt\tCYInvestmentIncomeAmt\n",
      "\n",
      "201542249349300954\t344438\t68709\t68709\t\t385\t435\n",
      "\n",
      "201531349349305353\t38335\t49927\t49927\t\t0\t0\n",
      "\n",
      "201542399349300724\t603535\t348126\t348126\t\t0\t9842\n",
      "\n",
      "201502239349301460\t137017\t210906\t210906\t\t0\t0\n",
      "\n",
      "201502439349300735\t372522\t441452\t441452\t\t98\t-3174\n",
      "\n",
      "201500729349300330\t3886855\t4286945\t4286945\t\t104638\t121881\n",
      "\n",
      "201522369349300207\t432619\t594609\t594609\t\t0\t0\n",
      "\n",
      "201501349349305660\t418960\t44427\t44427\t\t391823\t307090\n",
      "\n",
      "201522369349300307\t277082\t722789\t722789\t\t43051\t59512\n",
      "\n",
      "201541359349309199\t6017511\t6118975\t6118975\t\t5981\t2582\n",
      "\n",
      "201521599349300852\t294874\t254497\t254497\t\t181\t103\n",
      "\n",
      "201531359349306593\t0\t0\t\t\t270\t318\n",
      "\n",
      "201532299349302418\t447104\t431291\t431291\t\t10\t37\n",
      "\n",
      "201532299349302443\t1534385\t2240547\t2240547\t\t63\t0\n",
      "\n"
     ]
    }
   ],
   "source": [
    "# Ilustrate the final intesrest.csv (First 15 lines)\n",
    "with open('interest.csv', 'r') as fp:\n",
    "    length = 0\n",
    "    for line in fp:\n",
    "        if length < 15:\n",
    "            print(line)\n",
    "        length += 1"
   ]
  },
  {
   "cell_type": "code",
   "execution_count": 45,
   "metadata": {
    "collapsed": false
   },
   "outputs": [
    {
     "name": "stdout",
     "output_type": "stream",
     "text": [
      "11748\n"
     ]
    }
   ],
   "source": [
    "print(length)"
   ]
  },
  {
   "cell_type": "code",
   "execution_count": 47,
   "metadata": {
    "collapsed": false
   },
   "outputs": [
    {
     "name": "stdout",
     "output_type": "stream",
     "text": [
      "                    PYContributionsGrantsAmt  CYContributionsGrantsAmt  \\\n",
      "id                                                                       \n",
      "201542249349300954                    344438                     68709   \n",
      "201531349349305353                     38335                     49927   \n",
      "201542399349300724                    603535                    348126   \n",
      "201502239349301460                    137017                    210906   \n",
      "201502439349300735                    372522                    441452   \n",
      "201500729349300330                   3886855                   4286945   \n",
      "201522369349300207                    432619                    594609   \n",
      "201501349349305660                    418960                     44427   \n",
      "201522369349300307                    277082                    722789   \n",
      "201541359349309199                   6017511                   6118975   \n",
      "201521599349300852                    294874                    254497   \n",
      "201531359349306593                         0                         0   \n",
      "201532299349302418                    447104                    431291   \n",
      "201532299349302443                   1534385                   2240547   \n",
      "201521319349300912                     39290                     54034   \n",
      "201532299349302518                         0                     41404   \n",
      "\n",
      "                   TotalContributionsAmt  ContributionsGiftsGrantsEtcAmt  \\\n",
      "id                                                                         \n",
      "201542249349300954                 68709                             NaN   \n",
      "201531349349305353                 49927                             NaN   \n",
      "201542399349300724                348126                             NaN   \n",
      "201502239349301460                210906                             NaN   \n",
      "201502439349300735                441452                             NaN   \n",
      "201500729349300330               4286945                             NaN   \n",
      "201522369349300207                594609                             NaN   \n",
      "201501349349305660                 44427                             NaN   \n",
      "201522369349300307                722789                             NaN   \n",
      "201541359349309199               6118975                             NaN   \n",
      "201521599349300852                254497                             NaN   \n",
      "201531359349306593                   NaN                             NaN   \n",
      "201532299349302418                431291                             NaN   \n",
      "201532299349302443               2240547                             NaN   \n",
      "201521319349300912                 54034                             NaN   \n",
      "201532299349302518                 41404                             NaN   \n",
      "\n",
      "                    PYInvestmentIncomeAmt  CYInvestmentIncomeAmt  \n",
      "id                                                                \n",
      "201542249349300954                    385                    435  \n",
      "201531349349305353                      0                      0  \n",
      "201542399349300724                      0                   9842  \n",
      "201502239349301460                      0                      0  \n",
      "201502439349300735                     98                  -3174  \n",
      "201500729349300330                 104638                 121881  \n",
      "201522369349300207                      0                      0  \n",
      "201501349349305660                 391823                 307090  \n",
      "201522369349300307                  43051                  59512  \n",
      "201541359349309199                   5981                   2582  \n",
      "201521599349300852                    181                    103  \n",
      "201531359349306593                    270                    318  \n",
      "201532299349302418                     10                     37  \n",
      "201532299349302443                     63                      0  \n",
      "201521319349300912                   8923                  47214  \n",
      "201532299349302518                  50005                  38501  \n"
     ]
    }
   ],
   "source": [
    "import pandas as pd\n",
    "import numpy as np\n",
    "import matplotlib.pyplot as plt\n",
    "\n",
    "# Constants for the key\n",
    "CONTRI = \"PYContributionsGrantsAmt\"\n",
    "INVEST = \"PYInvestmentIncomeAmt\"\n",
    "\n",
    "# Build data frame for analysis, from_csv() reader would maek some errors while parsing\n",
    "df = pd.DataFrame.from_csv('interest.csv', sep = '\\t')\n",
    "\n",
    "# Vertualizing the Dataframe (first 15 rows)\n",
    "# The output is a little odd in jupyter\n",
    "print(df[:16])"
   ]
  },
  {
   "cell_type": "markdown",
   "metadata": {},
   "source": [
    "## Analyzing the data\n",
    "After getting the 11747 entries from the valid data, we can start our analysis. \n",
    "\n",
    "1. Basis measuring statistics\n",
    "2. Virtualization \n",
    "3. Explore relations of two keys"
   ]
  },
  {
   "cell_type": "code",
   "execution_count": 11,
   "metadata": {
    "collapsed": false
   },
   "outputs": [
    {
     "name": "stdout",
     "output_type": "stream",
     "text": [
      "2142237.82617\n",
      "18194432.1808\n",
      "173226.0\n"
     ]
    }
   ],
   "source": [
    "print(df[CONTRI].mean())\n",
    "print(df[CONTRI].median())\n",
    "print(df[CONTRI].std())"
   ]
  },
  {
   "cell_type": "code",
   "execution_count": 10,
   "metadata": {
    "collapsed": false
   },
   "outputs": [
    {
     "name": "stdout",
     "output_type": "stream",
     "text": [
      "359683.324849\n",
      "3618067.79855\n"
     ]
    }
   ],
   "source": [
    "print(df[INVEST].mean())\n",
    "print(df[INVEST].median())\n",
    "print(df[INVEST].std())"
   ]
  },
  {
   "cell_type": "markdown",
   "metadata": {},
   "source": [
    "The standard deviation is so large that the mean is not accurate. Two medians can give us a big picture of two data. Next we can draw the box plot to further illustrate the measures."
   ]
  },
  {
   "cell_type": "code",
   "execution_count": 16,
   "metadata": {
    "collapsed": false
   },
   "outputs": [
    {
     "data": {
      "text/plain": [
       "<matplotlib.axes._subplots.AxesSubplot at 0x10643a240>"
      ]
     },
     "execution_count": 16,
     "metadata": {},
     "output_type": "execute_result"
    },
    {
     "data": {
      "image/png": "[encoded data removed]",
      "text/plain": [
       "<matplotlib.figure.Figure at 0x10641b048>"
      ]
     },
     "metadata": {},
     "output_type": "display_data"
    }
   ],
   "source": [
    "%matplotlib inline\n",
    "df.boxplot(CONTRI)"
   ]
  },
  {
   "cell_type": "code",
   "execution_count": 17,
   "metadata": {
    "collapsed": false
   },
   "outputs": [
    {
     "data": {
      "text/plain": [
       "<matplotlib.axes._subplots.AxesSubplot at 0x106acfa90>"
      ]
     },
     "execution_count": 17,
     "metadata": {},
     "output_type": "execute_result"
    },
    {
     "data": {
      "image/png": "[encoded data removed]",
      "text/plain": [
       "<matplotlib.figure.Figure at 0x1068301d0>"
      ]
     },
     "metadata": {},
     "output_type": "display_data"
    }
   ],
   "source": [
    "df.boxplot(INVEST)"
   ]
  },
  {
   "cell_type": "markdown",
   "metadata": {},
   "source": [
    "The boxplots show that both data are highly skewed, and there are some outliers."
   ]
  },
  {
   "cell_type": "code",
   "execution_count": 34,
   "metadata": {
    "collapsed": false
   },
   "outputs": [
    {
     "data": {
      "text/plain": [
       "(0, 10000000)"
      ]
     },
     "execution_count": 34,
     "metadata": {},
     "output_type": "execute_result"
    },
    {
     "data": {
      "image/png": "[encoded data removed]",
      "text/plain": [
       "<matplotlib.figure.Figure at 0x107b23748>"
      ]
     },
     "metadata": {},
     "output_type": "display_data"
    }
   ],
   "source": [
    "sca = df.plot(x=INVEST, y=CONTRI, style='o')\n",
    "sca.set_ylim(0,10000000)"
   ]
  },
  {
   "cell_type": "markdown",
   "metadata": {},
   "source": [
    "Many organize have a small (converges to $0$) investment but a significant contribution. We need to further understand the data before doing other analysis and operations.\n",
    "\n",
    "From the right part of the plot, we cannot see there exists a clear linear relation between investment and contribution. "
   ]
  },
  {
   "cell_type": "markdown",
   "metadata": {},
   "source": [
    "## Conclusion\n",
    "It is very fun to do a real-world data analyzing. I have learned A LOT, including xml parsing, pandas data analyzing, from this mini project.\n",
    "\n",
    "The result is not quite as what I expected. If I have more time, or I would redo this project, I would definitely:\n",
    "\n",
    "1. Do more research on the 990 Form, and come up with more helpful key entries to use.\n",
    "2. Try to clustering the population. Using random sampling is not very fair in this project. I would try to divide the organizations into different groups, and perform the analysis in and within those groups.\n",
    "3. Check the result of pandas csv reading result, it seems there are some wrongly-formated entries.\n",
    "4. Explore more about the relations between contribution and investment.\n",
    "5. Except the contribution and investment, I am also interested in some other cool studies. For example, how LGBTQ organizations develop in the United States from 2010.\n",
    "6. Add a documentation for the python functions\n"
   ]
  }
 ],
 "metadata": {
  "kernelspec": {
   "display_name": "Python 3",
   "language": "python",
   "name": "python3"
  },
  "language_info": {
   "codemirror_mode": {
    "name": "ipython",
    "version": 3
   },
   "file_extension": ".py",
   "mimetype": "text/x-python",
   "name": "python",
   "nbconvert_exporter": "python",
   "pygments_lexer": "ipython3",
   "version": "3.5.2"
  }
 },
 "nbformat": 4,
 "nbformat_minor": 1
}
